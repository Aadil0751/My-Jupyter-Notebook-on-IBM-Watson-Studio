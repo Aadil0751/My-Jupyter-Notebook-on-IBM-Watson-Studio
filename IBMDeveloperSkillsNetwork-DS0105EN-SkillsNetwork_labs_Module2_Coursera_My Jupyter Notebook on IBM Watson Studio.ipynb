{
  "metadata": {
    "language_info": {
      "codemirror_mode": {
        "name": "python",
        "version": 3
      },
      "file_extension": ".py",
      "mimetype": "text/x-python",
      "name": "python",
      "nbconvert_exporter": "python",
      "pygments_lexer": "ipython3",
      "version": "3.8"
    },
    "kernelspec": {
      "name": "python",
      "display_name": "Pyolite",
      "language": "python"
    }
  },
  "nbformat_minor": 4,
  "nbformat": 4,
  "cells": [
    {
      "cell_type": "markdown",
      "source": "# My Jupyter Notebook on IBM Watson Studio",
      "metadata": {}
    },
    {
      "cell_type": "markdown",
      "source": "## Aadil Saloojee\nAspiring Medical Physicist",
      "metadata": {}
    },
    {
      "cell_type": "markdown",
      "source": "*I want to learn how to apply data science to medical imaging*",
      "metadata": {}
    },
    {
      "cell_type": "markdown",
      "source": "### This code tells one if the expression on the left and the expression on the right are equivalent for set values of \"a\" and \"b\"",
      "metadata": {}
    },
    {
      "cell_type": "code",
      "source": "a = 2\nb = 3\na*b == (a+b)/b",
      "metadata": {
        "trusted": true
      },
      "execution_count": 7,
      "outputs": [
        {
          "execution_count": 8,
          "output_type": "execute_result",
          "data": {
            "text/plain": "False"
          },
          "metadata": {}
        }
      ]
    },
    {
      "cell_type": "markdown",
      "source": "**These words are bold**\n\n~~Strikethrough~~\n\n1. This \n2. Is \n3. a\n4. Numbered\n5. List \n\n***\nHorizontal Line\n***\n",
      "metadata": {}
    },
    {
      "cell_type": "code",
      "source": "",
      "metadata": {},
      "execution_count": null,
      "outputs": []
    }
  ]
}